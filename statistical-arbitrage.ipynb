{
 "cells": [
  {
   "cell_type": "markdown",
   "id": "128b3c4a",
   "metadata": {},
   "source": [
    "## Statistical arbitrage\n",
    "\n",
    "This work attempts to evaluate whether or not it is possible to generate profit from statistical arbitrage applied to cryptocurrencies. The approach is to apply pairs trading and evaluate points to buy or sell a specific cryptocurrency. Pairs trading consists of:\n",
    "\n",
    "```LatEx\n",
    "I) Identifying a pair of stocks that move similarly and possess mean-reverting properties \n",
    "\n",
    "II) Sell the high priced stock and buy the low priced stock\n",
    "```\n",
    "\n",
    "The strategy shown here focuses on cointegration as the core strategy for pairs trading. We show that Litecoin (LTC) and Stellar (XLM) seem to have mean-reverting properties and therefore could be used to perform arbitrage."
   ]
  },
  {
   "cell_type": "markdown",
   "id": "5790ee12",
   "metadata": {},
   "source": [
    "### Import libs"
   ]
  },
  {
   "cell_type": "code",
   "execution_count": 1,
   "id": "d6ddadbd",
   "metadata": {},
   "outputs": [],
   "source": [
    "import matplotlib.pyplot as plt\n",
    "import seaborn as sns\n",
    "import numpy as np"
   ]
  },
  {
   "cell_type": "code",
   "execution_count": 2,
   "id": "7ae61be7",
   "metadata": {},
   "outputs": [],
   "source": [
    "from utility_functions import *"
   ]
  },
  {
   "cell_type": "code",
   "execution_count": 3,
   "id": "e8c2e73b",
   "metadata": {},
   "outputs": [],
   "source": [
    "import warnings\n",
    "warnings.filterwarnings(\"ignore\")"
   ]
  },
  {
   "cell_type": "markdown",
   "id": "2a0acae4",
   "metadata": {},
   "source": [
    "### Load data"
   ]
  },
  {
   "cell_type": "markdown",
   "id": "d4264d56",
   "metadata": {},
   "source": [
    "#### Select stocks and format columns"
   ]
  },
  {
   "cell_type": "code",
   "execution_count": 4,
   "id": "0e5ef5c0",
   "metadata": {},
   "outputs": [
    {
     "name": "stdout",
     "output_type": "stream",
     "text": [
      "Gathering data for XLM-USD for the past 1 years\n",
      "[*********************100%***********************]  1 of 1 completed\n",
      "Gathering data for LTC-USD for the past 1 years\n",
      "[*********************100%***********************]  1 of 1 completed\n",
      "Gathering data for BTC-USD for the past 1 years\n",
      "[*********************100%***********************]  1 of 1 completed\n",
      "Fixing data for XLM-USD\n",
      "Fixing data for LTC-USD\n",
      "Fixing data for BTC-USD\n"
     ]
    }
   ],
   "source": [
    "tickers = ['XLM-USD', 'LTC-USD', 'BTC-USD']\n",
    "assets = read_yfinance_data(tickers)"
   ]
  },
  {
   "cell_type": "markdown",
   "id": "63264ea3",
   "metadata": {},
   "source": [
    "### Analyze cointegrated pairs"
   ]
  },
  {
   "cell_type": "markdown",
   "id": "536630cb",
   "metadata": {},
   "source": [
    "#### Stock Market evolution"
   ]
  },
  {
   "cell_type": "code",
   "execution_count": null,
   "id": "df992018",
   "metadata": {},
   "outputs": [],
   "source": [
    "fig, ax_ = plt.subplots(1, 1, figsize=(16, 8))\n",
    "\n",
    "ax = ax_.twinx()\n",
    "\n",
    "ref_tick = tickers[-1]\n",
    "x_ = assets[ref_tick].index\n",
    "dates = assets[ref_tick]['Date']\n",
    "volume = assets[ref_tick]['Volume']\n",
    "\n",
    "for tick in tickers:\n",
    "    y_ = assets[tick]['Close']\n",
    "    y_norm = y_/y_[0]\n",
    "    sns.lineplot(x_, y_norm, ax=ax, label=f'{tick}', lw=3.0)\n",
    "    \n",
    "nulls = mask_idx(x_, m=15)\n",
    "sns.barplot(x_, volume, ax=ax_, palette='Blues', alpha=0.8)\n",
    "ax_.set_xticks(x_[nulls])\n",
    "ax_.set_xticklabels(dates[nulls], rotation=90, fontsize=12)\n",
    "ax.axhline(1, linestyle='--', color='red')\n",
    "ax.plot([0], [1], 'o', color='darkred', ms=10.0)\n",
    "ax.legend(fontsize=16)\n",
    "fig.suptitle(f'1 USD simulation', fontsize=16, weight='bold')\n",
    "fig.tight_layout(rect=[0, 0.03, 1, 0.95])"
   ]
  },
  {
   "cell_type": "markdown",
   "id": "2bfeccb4",
   "metadata": {},
   "source": [
    "#### Cointegrated pairs"
   ]
  },
  {
   "cell_type": "code",
   "execution_count": null,
   "id": "b28bce3e",
   "metadata": {},
   "outputs": [],
   "source": [
    "from statistical_arbitrage import Cointegrate\n",
    "a, b = tickers[0], tickers[1]\n",
    "x = assets[a]['Close']\n",
    "y = assets[b]['Close']\n",
    "coint = Cointegrate(x, y)"
   ]
  },
  {
   "cell_type": "code",
   "execution_count": null,
   "id": "a78f6f8d",
   "metadata": {},
   "outputs": [],
   "source": [
    "coint.regression()"
   ]
  },
  {
   "cell_type": "markdown",
   "id": "ebba9b0a",
   "metadata": {},
   "source": [
    "#### Setup parameters"
   ]
  },
  {
   "cell_type": "code",
   "execution_count": null,
   "id": "b3f18bb8",
   "metadata": {},
   "outputs": [],
   "source": [
    "signals = coint.signals\n",
    "y_pred = coint.y_pred\n",
    "residuals = coint.residuals\n",
    "ub, lb = coint.ub, coint.lb\n",
    "\n",
    "keys = list(assets.keys())\n",
    "key = keys[0]\n",
    "dates = assets[key]['Date']\n",
    "x_ = assets[key].index"
   ]
  },
  {
   "cell_type": "markdown",
   "id": "a452d7c5",
   "metadata": {},
   "source": [
    "### Visualize"
   ]
  },
  {
   "cell_type": "code",
   "execution_count": null,
   "id": "103927fe",
   "metadata": {
    "scrolled": false
   },
   "outputs": [],
   "source": [
    "fig, ax = plt.subplots(2, 2, figsize=(16, 12))\n",
    "ax = ax.ravel()\n",
    "\n",
    "nulls = mask_idx(x_, m=30)\n",
    "\n",
    "for j, key in enumerate([a, b]):\n",
    "    y_ = assets[key]['Close']\n",
    "    ax[0].plot(x_, y_/y_[0], label=key)\n",
    "    for i, marker, color in [(-1, '^', 'g'), (1, 'v', 'r')]:\n",
    "        m = -2 * j + 1    \n",
    "        ax[0].plot(x_[signals == i * m],\n",
    "                y_[signals == i * m]/y_[0],\n",
    "                marker=marker,\n",
    "                lw=0,\n",
    "                markersize=6,\n",
    "                c=color)\n",
    "        ax[0].legend(fontsize=14)\n",
    "        \n",
    "ax[0].set_xticks(x_[nulls])\n",
    "ax[0].set_xticklabels(dates[nulls], rotation=90, fontsize=8)\n",
    "ax[0].axhline(1, linestyle='--', color='red')\n",
    "\n",
    "sns.scatterplot(x=x, y=y, ax=ax[1], s=20)\n",
    "sns.lineplot(x=x, y=y_pred, ax=ax[1], color='purple', lw=3.0)\n",
    "cx = np.percentile(x, q=1)\n",
    "cy = np.percentile(y, q=99)\n",
    "intercept = coint.reg.intercept_\n",
    "coef = coint.reg.coef_[0]\n",
    "ax[1].annotate(f'\\n Coeff: {round(coef,2)} \\n '+\n",
    "               f'Intercept: {round(intercept,2)}',\n",
    "               xy=(cx, cy), \n",
    "               color='darkgreen',\n",
    "               weight='bold',\n",
    "               fontsize=14)\n",
    "\n",
    "ax[1].set_xlabel(a, fontsize=12, weight='bold')\n",
    "ax[1].set_ylabel(b, fontsize=12, weight='bold')\n",
    "\n",
    "sns.distplot(\n",
    "    a=residuals,\n",
    "    hist=False, kde=True, rug=True, \n",
    "    ax=ax[2])\n",
    "\n",
    "ax[2].axvline(0, linestyle='--', color='red', lw=3.0)\n",
    "ax[2].set_title('Residual distribution')\n",
    "\n",
    "sns.lineplot(\n",
    "    x=x_,\n",
    "    y=residuals,\n",
    "    ax=ax[3],\n",
    "    label=f'Residual Series')\n",
    "\n",
    "for i, marker, color in [(1, '^', 'g'), (-1, 'v', 'r')]:\n",
    "    ax[3].plot(\n",
    "        x_[signals == i],\n",
    "        residuals[signals == i],\n",
    "        marker=marker,\n",
    "        lw=0,\n",
    "        markersize=8,\n",
    "        c=color)\n",
    "    \n",
    "ax[3].legend(['Residual series','Buy stock','Sell stock'],fontsize=14)    \n",
    "ax[3].set_xticks(x_[nulls])\n",
    "ax[3].set_xticklabels(dates[nulls], rotation=90, fontsize=8)\n",
    "ax[3].axhline(0, linestyle='--', color='darkred')\n",
    "\n",
    "fig.tight_layout(rect=[0, 0.03, 1, 0.95])\n",
    "fig.suptitle('Statistical Arbitrage', fontsize=16, weight='bold')"
   ]
  },
  {
   "cell_type": "code",
   "execution_count": null,
   "id": "d096e850",
   "metadata": {},
   "outputs": [],
   "source": []
  }
 ],
 "metadata": {
  "kernelspec": {
   "display_name": "Python 3",
   "language": "python",
   "name": "python3"
  },
  "language_info": {
   "codemirror_mode": {
    "name": "ipython",
    "version": 3
   },
   "file_extension": ".py",
   "mimetype": "text/x-python",
   "name": "python",
   "nbconvert_exporter": "python",
   "pygments_lexer": "ipython3",
   "version": "3.8.8"
  }
 },
 "nbformat": 4,
 "nbformat_minor": 5
}
